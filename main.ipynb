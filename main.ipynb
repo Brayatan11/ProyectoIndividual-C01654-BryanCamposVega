{
 "cells": [
  {
   "cell_type": "markdown",
   "id": "8c3a4dff-1e06-4d60-bfcc-df7292f898c0",
   "metadata": {},
   "source": [
    "# "
   ]
  },
  {
   "cell_type": "code",
   "execution_count": 1,
   "id": "e58d765b-2567-46ab-bbba-c9b695f5186e",
   "metadata": {},
   "outputs": [
    {
     "name": "stderr",
     "output_type": "stream",
     "text": [
      "[nltk_data] Downloading package words to\n",
      "[nltk_data]     C:\\Users\\usu\\AppData\\Roaming\\nltk_data...\n",
      "[nltk_data]   Package words is already up-to-date!\n"
     ]
    },
    {
     "data": {
      "text/plain": [
       "True"
      ]
     },
     "execution_count": 1,
     "metadata": {},
     "output_type": "execute_result"
    }
   ],
   "source": [
    "import nltk\n",
    "import string\n",
    "import copy\n",
    "import re\n",
    "import pandas as pd\n",
    "import numpy as np\n",
    "import seaborn as sns\n",
    "\n",
    "from tqdm import tqdm\n",
    "from matplotlib import pyplot as plt\n",
    "from collections import defaultdict, Counter\n",
    "nltk.download('words')\n"
   ]
  },
  {
   "cell_type": "code",
   "execution_count": 6,
   "id": "8221d4d9-bed8-453b-bb68-12e5f8416bf8",
   "metadata": {},
   "outputs": [
    {
     "name": "stdout",
     "output_type": "stream",
     "text": [
      "2316 ['AAHED', 'AALII', 'AAPAS', 'AARGH', 'AARTI']\n"
     ]
    }
   ],
   "source": [
    "with open('data/valid-wordle-words.txt') as file:\n",
    "    possible_answers = file.readlines()\n",
    "\n",
    "# Elimina los saltos de línea y otros caracteres no alfabéticos, y convierte a mayúsculas\n",
    "list_possible_answers = sorted([re.sub(r'[^A-Z]', '', word.strip().upper()) for word in possible_answers])\n",
    "\n",
    "with open('data/answers.txt') as file:\n",
    "    lista_corta = file.readlines()\n",
    "\n",
    "lista_corta = sorted([re.sub(r'[^A-Z]', '', t.upper()) for t in lista_corta[0].split(',')])\n",
    "print(len(lista_corta),\n",
    "      list_possible_answers[:5])"
   ]
  },
  {
   "cell_type": "code",
   "execution_count": 4,
   "id": "ad90d012-1764-402f-bf7c-3b7e45bbfcd1",
   "metadata": {},
   "outputs": [
    {
     "data": {
      "text/html": [
       "<div>\n",
       "<style scoped>\n",
       "    .dataframe tbody tr th:only-of-type {\n",
       "        vertical-align: middle;\n",
       "    }\n",
       "\n",
       "    .dataframe tbody tr th {\n",
       "        vertical-align: top;\n",
       "    }\n",
       "\n",
       "    .dataframe thead th {\n",
       "        text-align: right;\n",
       "    }\n",
       "</style>\n",
       "<table border=\"1\" class=\"dataframe\">\n",
       "  <thead>\n",
       "    <tr style=\"text-align: right;\">\n",
       "      <th></th>\n",
       "      <th>letter_1</th>\n",
       "      <th>letter_2</th>\n",
       "      <th>letter_3</th>\n",
       "      <th>letter_4</th>\n",
       "      <th>letter_5</th>\n",
       "      <th>word</th>\n",
       "    </tr>\n",
       "  </thead>\n",
       "  <tbody>\n",
       "    <tr>\n",
       "      <th>0</th>\n",
       "      <td>A</td>\n",
       "      <td>A</td>\n",
       "      <td>H</td>\n",
       "      <td>E</td>\n",
       "      <td>D</td>\n",
       "      <td>AAHED</td>\n",
       "    </tr>\n",
       "    <tr>\n",
       "      <th>1</th>\n",
       "      <td>A</td>\n",
       "      <td>A</td>\n",
       "      <td>L</td>\n",
       "      <td>I</td>\n",
       "      <td>I</td>\n",
       "      <td>AALII</td>\n",
       "    </tr>\n",
       "    <tr>\n",
       "      <th>2</th>\n",
       "      <td>A</td>\n",
       "      <td>A</td>\n",
       "      <td>P</td>\n",
       "      <td>A</td>\n",
       "      <td>S</td>\n",
       "      <td>AAPAS</td>\n",
       "    </tr>\n",
       "    <tr>\n",
       "      <th>3</th>\n",
       "      <td>A</td>\n",
       "      <td>A</td>\n",
       "      <td>R</td>\n",
       "      <td>G</td>\n",
       "      <td>H</td>\n",
       "      <td>AARGH</td>\n",
       "    </tr>\n",
       "    <tr>\n",
       "      <th>4</th>\n",
       "      <td>A</td>\n",
       "      <td>A</td>\n",
       "      <td>R</td>\n",
       "      <td>T</td>\n",
       "      <td>I</td>\n",
       "      <td>AARTI</td>\n",
       "    </tr>\n",
       "  </tbody>\n",
       "</table>\n",
       "</div>"
      ],
      "text/plain": [
       "  letter_1 letter_2 letter_3 letter_4 letter_5   word\n",
       "0        A        A        H        E        D  AAHED\n",
       "1        A        A        L        I        I  AALII\n",
       "2        A        A        P        A        S  AAPAS\n",
       "3        A        A        R        G        H  AARGH\n",
       "4        A        A        R        T        I  AARTI"
      ]
     },
     "execution_count": 4,
     "metadata": {},
     "output_type": "execute_result"
    }
   ],
   "source": [
    "arr_words_5l = np.array([list(w) for w in list_possible_answers])\n",
    "df_words_5l = pd.DataFrame(data=arr_words_5l,\n",
    "                           columns=[f'letter_{i+1}' for i in range(5)])\n",
    "df_words_5l['word'] = list_possible_answers\n",
    "df_words_5l.head()"
   ]
  },
  {
   "cell_type": "code",
   "execution_count": 7,
   "id": "0ce4f0d2-8abb-4be8-9da0-79cde6fd6b2b",
   "metadata": {},
   "outputs": [
    {
     "name": "stdout",
     "output_type": "stream",
     "text": [
      "\n",
      "Las 3 palabras con más probabilidad:\n",
      "La probabilidad de la palabra 'SANES' es: 0.8305\n",
      "La probabilidad de la palabra 'SORES' es: 0.8283\n",
      "La probabilidad de la palabra 'SALES' es: 0.8207\n",
      "Palabra: SANES, Estados: ?YY??\n",
      "      letter_1 letter_2 letter_3 letter_4 letter_5   word\n",
      "13           A        B        A        N        D  ABAND\n",
      "51           A        B        O        O        N  ABOON\n",
      "54           A        B        O        R        N  ABORN\n",
      "61           A        B        R        I        N  ABRIN\n",
      "65           A        B        U        N        A  ABUNA\n",
      "...        ...      ...      ...      ...      ...    ...\n",
      "14665        Y        O        J        A        N  YOJAN\n",
      "14666        Y        O        K        A        N  YOKAN\n",
      "14723        Y        U        L        A        N  YULAN\n",
      "14782        Z        I        G        A        N  ZIGAN\n",
      "14846        Z        U        P        A        N  ZUPAN\n",
      "\n",
      "[336 rows x 6 columns]\n",
      "\n",
      "Las 3 palabras con más probabilidad:\n",
      "La probabilidad de la palabra 'ANANA' es: 1.336\n",
      "La probabilidad de la palabra 'ARGAN' es: 1.158\n",
      "La probabilidad de la palabra 'ALANG' es: 1.149\n",
      "Palabra: ANANA, Estados: YG???\n",
      "      letter_1 letter_2 letter_3 letter_4 letter_5   word\n",
      "5885         I        N        L        A        Y  INLAY\n",
      "5908         I        N        V        A        R  INVAR\n",
      "8812         O        N        L        A        P  ONLAP\n",
      "8813         O        N        L        A        Y  ONLAY\n",
      "8818         O        N        T        A        L  ONTAL\n",
      "13626        U        N        B        A        G  UNBAG\n",
      "13628        U        N        B        A        R  UNBAR\n",
      "13632        U        N        C        A        P  UNCAP\n",
      "13640        U        N        D        A        M  UNDAM\n",
      "13651        U        N        G        A        G  UNGAG\n",
      "13656        U        N        H        A        T  UNHAT\n",
      "13665        U        N        J        A        M  UNJAM\n",
      "13671        U        N        L        A        P  UNLAP\n",
      "13672        U        N        L        A        W  UNLAW\n",
      "13673        U        N        L        A        Y  UNLAY\n",
      "13679        U        N        M        A        D  UNMAD\n",
      "13687        U        N        P        A        Y  UNPAY\n",
      "13706        U        N        T        A        G  UNTAG\n",
      "13707        U        N        T        A        X  UNTAX\n",
      "\n",
      "Las 3 palabras con más probabilidad:\n",
      "La probabilidad de la palabra 'UNLAY' es: 3.263\n",
      "La probabilidad de la palabra 'UNLAP' es: 3.211\n",
      "La probabilidad de la palabra 'UNLAW' es: 3.105\n",
      "Palabra: UNLAY, Estados: ?GGGG\n",
      "     letter_1 letter_2 letter_3 letter_4 letter_5   word\n",
      "5885        I        N        L        A        Y  INLAY\n",
      "8813        O        N        L        A        Y  ONLAY\n",
      "\n",
      "Las 3 palabras con más probabilidad:\n",
      "La probabilidad de la palabra 'INLAY' es: 4.5\n",
      "La probabilidad de la palabra 'ONLAY' es: 4.5\n",
      "Palabra: INLAY, Estados: GGGGG\n",
      "¡Ganaste! La palabra correcta es 'INLAY'.\n"
     ]
    }
   ],
   "source": [
    "from cod.WORDLE import Juego \n",
    "from cod.WORDEL_PANTALLA import * \n",
    "root = tk.Tk()\n",
    "visual_app = WordleVisual(root)\n",
    "\n",
    "# Inicializa el juego\n",
    "juego = Juego(list_possible_answers, df_words_5l, visual_app)\n",
    "root.after(0, juego.jugar())\n",
    "\n",
    "# Ejecuta la ventana de tkinter\n",
    "root.mainloop()\n"
   ]
  },
  {
   "cell_type": "code",
   "execution_count": null,
   "id": "7cb6ae75-dfd5-4b54-b24d-d30df9fca98a",
   "metadata": {},
   "outputs": [],
   "source": []
  }
 ],
 "metadata": {
  "kernelspec": {
   "display_name": "Python 3 (ipykernel)",
   "language": "python",
   "name": "python3"
  },
  "language_info": {
   "codemirror_mode": {
    "name": "ipython",
    "version": 3
   },
   "file_extension": ".py",
   "mimetype": "text/x-python",
   "name": "python",
   "nbconvert_exporter": "python",
   "pygments_lexer": "ipython3",
   "version": "3.11.7"
  }
 },
 "nbformat": 4,
 "nbformat_minor": 5
}
