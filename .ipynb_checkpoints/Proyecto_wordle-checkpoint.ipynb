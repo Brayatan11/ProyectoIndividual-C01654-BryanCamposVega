{
 "cells": [
  {
   "cell_type": "markdown",
   "id": "8c3a4dff-1e06-4d60-bfcc-df7292f898c0",
   "metadata": {},
   "source": [
    "# "
   ]
  },
  {
   "cell_type": "code",
   "execution_count": 8,
   "id": "e58d765b-2567-46ab-bbba-c9b695f5186e",
   "metadata": {},
   "outputs": [
    {
     "name": "stderr",
     "output_type": "stream",
     "text": [
      "[nltk_data] Downloading package words to\n",
      "[nltk_data]     C:\\Users\\usu\\AppData\\Roaming\\nltk_data...\n",
      "[nltk_data]   Package words is already up-to-date!\n"
     ]
    },
    {
     "data": {
      "text/plain": [
       "True"
      ]
     },
     "execution_count": 8,
     "metadata": {},
     "output_type": "execute_result"
    }
   ],
   "source": [
    "import nltk\n",
    "import string\n",
    "import copy\n",
    "import re\n",
    "import pandas as pd\n",
    "import numpy as np\n",
    "import seaborn as sns\n",
    "\n",
    "from tqdm import tqdm\n",
    "from matplotlib import pyplot as plt\n",
    "from collections import defaultdict, Counter\n",
    "nltk.download('words')\n"
   ]
  },
  {
   "cell_type": "code",
   "execution_count": 9,
   "id": "8221d4d9-bed8-453b-bb68-12e5f8416bf8",
   "metadata": {},
   "outputs": [
    {
     "name": "stdout",
     "output_type": "stream",
     "text": [
      "2316 ['AAHED', 'AALII', 'AAPAS', 'AARGH', 'AARTI']\n"
     ]
    }
   ],
   "source": [
    "with open('valid-wordle-words.txt') as file:\n",
    "    possible_answers = file.readlines()\n",
    "\n",
    "# Elimina los saltos de línea y otros caracteres no alfabéticos, y convierte a mayúsculas\n",
    "list_possible_answers = sorted([re.sub(r'[^A-Z]', '', word.strip().upper()) for word in possible_answers])\n",
    "\n",
    "with open('answers.txt') as file:\n",
    "    lista_corta = file.readlines()\n",
    "\n",
    "lista_corta = sorted([re.sub(r'[^A-Z]', '', t.upper()) for t in lista_corta[0].split(',')])\n",
    "print(len(lista_corta),\n",
    "      list_possible_answers[:5])"
   ]
  },
  {
   "cell_type": "code",
   "execution_count": 10,
   "id": "ad90d012-1764-402f-bf7c-3b7e45bbfcd1",
   "metadata": {},
   "outputs": [
    {
     "data": {
      "text/html": [
       "<div>\n",
       "<style scoped>\n",
       "    .dataframe tbody tr th:only-of-type {\n",
       "        vertical-align: middle;\n",
       "    }\n",
       "\n",
       "    .dataframe tbody tr th {\n",
       "        vertical-align: top;\n",
       "    }\n",
       "\n",
       "    .dataframe thead th {\n",
       "        text-align: right;\n",
       "    }\n",
       "</style>\n",
       "<table border=\"1\" class=\"dataframe\">\n",
       "  <thead>\n",
       "    <tr style=\"text-align: right;\">\n",
       "      <th></th>\n",
       "      <th>letter_1</th>\n",
       "      <th>letter_2</th>\n",
       "      <th>letter_3</th>\n",
       "      <th>letter_4</th>\n",
       "      <th>letter_5</th>\n",
       "      <th>word</th>\n",
       "    </tr>\n",
       "  </thead>\n",
       "  <tbody>\n",
       "    <tr>\n",
       "      <th>0</th>\n",
       "      <td>A</td>\n",
       "      <td>A</td>\n",
       "      <td>H</td>\n",
       "      <td>E</td>\n",
       "      <td>D</td>\n",
       "      <td>AAHED</td>\n",
       "    </tr>\n",
       "    <tr>\n",
       "      <th>1</th>\n",
       "      <td>A</td>\n",
       "      <td>A</td>\n",
       "      <td>L</td>\n",
       "      <td>I</td>\n",
       "      <td>I</td>\n",
       "      <td>AALII</td>\n",
       "    </tr>\n",
       "    <tr>\n",
       "      <th>2</th>\n",
       "      <td>A</td>\n",
       "      <td>A</td>\n",
       "      <td>P</td>\n",
       "      <td>A</td>\n",
       "      <td>S</td>\n",
       "      <td>AAPAS</td>\n",
       "    </tr>\n",
       "    <tr>\n",
       "      <th>3</th>\n",
       "      <td>A</td>\n",
       "      <td>A</td>\n",
       "      <td>R</td>\n",
       "      <td>G</td>\n",
       "      <td>H</td>\n",
       "      <td>AARGH</td>\n",
       "    </tr>\n",
       "    <tr>\n",
       "      <th>4</th>\n",
       "      <td>A</td>\n",
       "      <td>A</td>\n",
       "      <td>R</td>\n",
       "      <td>T</td>\n",
       "      <td>I</td>\n",
       "      <td>AARTI</td>\n",
       "    </tr>\n",
       "  </tbody>\n",
       "</table>\n",
       "</div>"
      ],
      "text/plain": [
       "  letter_1 letter_2 letter_3 letter_4 letter_5   word\n",
       "0        A        A        H        E        D  AAHED\n",
       "1        A        A        L        I        I  AALII\n",
       "2        A        A        P        A        S  AAPAS\n",
       "3        A        A        R        G        H  AARGH\n",
       "4        A        A        R        T        I  AARTI"
      ]
     },
     "execution_count": 10,
     "metadata": {},
     "output_type": "execute_result"
    }
   ],
   "source": [
    "arr_words_5l = np.array([list(w) for w in list_possible_answers])\n",
    "df_words_5l = pd.DataFrame(data=arr_words_5l,\n",
    "                           columns=[f'letter_{i+1}' for i in range(5)])\n",
    "df_words_5l['word'] = list_possible_answers\n",
    "df_words_5l.head()"
   ]
  },
  {
   "cell_type": "code",
   "execution_count": 4,
   "id": "0ce4f0d2-8abb-4be8-9da0-79cde6fd6b2b",
   "metadata": {},
   "outputs": [
    {
     "name": "stdout",
     "output_type": "stream",
     "text": [
      "\n",
      "Las 3 palabras con más probabilidad:\n",
      "La probabilidad de la palabra 'SANES' es: 0.8305\n",
      "La probabilidad de la palabra 'SORES' es: 0.8283\n",
      "La probabilidad de la palabra 'SALES' es: 0.8207\n",
      "Palabra: SOLAR, Estados: ????G\n",
      "      letter_1 letter_2 letter_3 letter_4 letter_5   word\n",
      "1193         B        E        V        E        R  BEVER\n",
      "1226         B        I        D        E        R  BIDER\n",
      "1249         B        I        K        E        R  BIKER\n",
      "1270         B        I        N        E        R  BINER\n",
      "1308         B        I        T        E        R  BITER\n",
      "...        ...      ...      ...      ...      ...    ...\n",
      "14375        W        I        P        E        R  WIPER\n",
      "14378        W        I        R        E        R  WIRER\n",
      "14399        W        I        V        E        R  WIVER\n",
      "14479        W        R        I        E        R  WRIER\n",
      "14491        W        R        Y        E        R  WRYER\n",
      "\n",
      "[173 rows x 6 columns]\n",
      "\n",
      "Las 3 palabras con más probabilidad:\n",
      "La probabilidad de la palabra 'TITER' es: 2.416\n",
      "La probabilidad de la palabra 'CITER' es: 2.41\n",
      "La probabilidad de la palabra 'DIVER' es: 2.405\n",
      "Palabra: DIVER, Estados: GGGGG\n",
      "¡Ganaste! La palabra correcta es 'DIVER'.\n"
     ]
    }
   ],
   "source": [
    "from cod.WORDLE import Juego \n",
    "from cod.WORDEL_PANTALLA import * \n",
    "root = tk.Tk()\n",
    "visual_app = WordleVisual(root)\n",
    "\n",
    "# Inicializa el juego\n",
    "juego = Juego(list_possible_answers, df_words_5l, visual_app)\n",
    "root.after(0, juego.jugar())\n",
    "\n",
    "# Ejecuta la ventana de tkinter\n",
    "root.mainloop()\n"
   ]
  },
  {
   "cell_type": "code",
   "execution_count": null,
   "id": "7cb6ae75-dfd5-4b54-b24d-d30df9fca98a",
   "metadata": {},
   "outputs": [],
   "source": []
  }
 ],
 "metadata": {
  "kernelspec": {
   "display_name": "Python 3 (ipykernel)",
   "language": "python",
   "name": "python3"
  },
  "language_info": {
   "codemirror_mode": {
    "name": "ipython",
    "version": 3
   },
   "file_extension": ".py",
   "mimetype": "text/x-python",
   "name": "python",
   "nbconvert_exporter": "python",
   "pygments_lexer": "ipython3",
   "version": "3.11.7"
  }
 },
 "nbformat": 4,
 "nbformat_minor": 5
}
