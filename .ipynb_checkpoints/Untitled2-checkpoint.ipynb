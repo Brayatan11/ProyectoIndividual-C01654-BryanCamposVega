{
 "cells": [
  {
   "cell_type": "code",
   "execution_count": null,
   "id": "87fe7847-cad6-428a-aad7-0f61a85ec5f7",
   "metadata": {},
   "outputs": [],
   "source": []
  },
  {
   "cell_type": "code",
   "execution_count": 13,
   "id": "ee60111e-3296-44c4-9f5d-e756d25ca7ea",
   "metadata": {},
   "outputs": [
    {
     "name": "stdout",
     "output_type": "stream",
     "text": [
      "??YYV\n"
     ]
    }
   ],
   "source": [
    "import tkinter as tk\n",
    "from tkinter import messagebox\n",
    "\n",
    "# Función para cambiar el color de las letras\n",
    "def change_color(button):\n",
    "    current_color = button.cget(\"bg\")\n",
    "    if current_color == \"gray\":\n",
    "        button.config(bg=\"green\")\n",
    "    elif current_color == \"green\":\n",
    "        button.config(bg=\"yellow\")\n",
    "    else:\n",
    "        button.config(bg=\"gray\")\n",
    "\n",
    "# Función para enviar la palabra\n",
    "def submit_word():\n",
    "    word = [btn.cget(\"text\") for btn in letter_buttons]\n",
    "    colors = [btn.cget(\"bg\") for btn in letter_buttons]\n",
    "    estados = []\n",
    "\n",
    "    for color in colors:\n",
    "        if color == 'green':\n",
    "            estados.append('V')\n",
    "        elif color == 'yellow':\n",
    "            estados.append('Y')\n",
    "        else:\n",
    "            estados.append('?')\n",
    "\n",
    "    estados_string = \"\".join(estados)\n",
    "    print(estados_string)\n",
    "    \n",
    "    # Aquí puedes añadir la lógica que necesites después de enviar la palabra\n",
    "    messagebox.showinfo(\"Palabra Enviada\", f\"Palabra: {''.join(word)}\\nColores: {colors}\")\n",
    "\n",
    "# Configuración de la ventana principal\n",
    "root = tk.Tk()\n",
    "root.title(\"Wordle Visual\")\n",
    "root.geometry(\"300x200\")\n",
    "\n",
    "# Entrada para la palabra\n",
    "entry = tk.Entry(root, font=(\"Helvetica\", 24))\n",
    "entry.pack(pady=20)\n",
    "\n",
    "# Botones para las letras\n",
    "letter_buttons = []\n",
    "frame = tk.Frame(root)\n",
    "frame.pack(pady=10)\n",
    "\n",
    "for i in range(5):\n",
    "    button = tk.Button(frame, text=\"\", width=4, height=2, bg=\"gray\", font=(\"Helvetica\", 24))\n",
    "    button.grid(row=0, column=i, padx=5)\n",
    "    button.config(command=lambda b=button: change_color(b))\n",
    "    letter_buttons.append(button)\n",
    "\n",
    "# Botón para enviar la palabra\n",
    "submit_button = tk.Button(root, text=\"Enviar\", command=submit_word)\n",
    "submit_button.pack(pady=20)\n",
    "\n",
    "# Función para actualizar los botones de letras al escribir en la entrada\n",
    "def update_buttons(event):\n",
    "    word = entry.get().upper()[:5]\n",
    "    for i in range(5):\n",
    "        if i < len(word):\n",
    "            letter_buttons[i].config(text=word[i])\n",
    "        else:\n",
    "            letter_buttons[i].config(text=\"\")\n",
    "\n",
    "# Evento para actualizar los botones al escribir en la entrada\n",
    "entry.bind(\"<KeyRelease>\", update_buttons)\n",
    "\n",
    "# Iniciar la aplicación\n",
    "root.mainloop()"
   ]
  }
 ],
 "metadata": {
  "kernelspec": {
   "display_name": "Python 3 (ipykernel)",
   "language": "python",
   "name": "python3"
  },
  "language_info": {
   "codemirror_mode": {
    "name": "ipython",
    "version": 3
   },
   "file_extension": ".py",
   "mimetype": "text/x-python",
   "name": "python",
   "nbconvert_exporter": "python",
   "pygments_lexer": "ipython3",
   "version": "3.11.7"
  }
 },
 "nbformat": 4,
 "nbformat_minor": 5
}
